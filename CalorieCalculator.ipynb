{
 "cells": [
  {
   "cell_type": "code",
   "execution_count": null,
   "metadata": {},
   "outputs": [],
   "source": [
    "pip install django\n",
    "pip install django-filters"
   ]
  },
  {
   "cell_type": "markdown",
   "metadata": {},
   "source": [
    "# 1. Writing Models: models.py\n",
    "To access databases, we will need the model.\n",
    "\n",
    "In Fityfeed/models.py, create these models."
   ]
  },
  {
   "cell_type": "code",
   "execution_count": 2,
   "metadata": {},
   "outputs": [
    {
     "ename": "ModuleNotFoundError",
     "evalue": "No module named 'django'",
     "output_type": "error",
     "traceback": [
      "\u001b[1;31m---------------------------------------------------------------------------\u001b[0m",
      "\u001b[1;31mModuleNotFoundError\u001b[0m                       Traceback (most recent call last)",
      "\u001b[1;32m<ipython-input-2-4f3d971fe6f0>\u001b[0m in \u001b[0;36m<module>\u001b[1;34m\u001b[0m\n\u001b[1;32m----> 1\u001b[1;33m \u001b[1;32mfrom\u001b[0m \u001b[0mdjango\u001b[0m\u001b[1;33m.\u001b[0m\u001b[0mdb\u001b[0m \u001b[1;32mimport\u001b[0m \u001b[0mmodels\u001b[0m\u001b[1;33m\u001b[0m\u001b[1;33m\u001b[0m\u001b[0m\n\u001b[0m\u001b[0;32m      2\u001b[0m \u001b[1;32mfrom\u001b[0m \u001b[0mdjango\u001b[0m\u001b[1;33m.\u001b[0m\u001b[0mcontrib\u001b[0m\u001b[1;33m.\u001b[0m\u001b[0mauth\u001b[0m\u001b[1;33m.\u001b[0m\u001b[0mmodels\u001b[0m \u001b[1;32mimport\u001b[0m \u001b[0mUser\u001b[0m\u001b[1;33m\u001b[0m\u001b[1;33m\u001b[0m\u001b[0m\n\u001b[0;32m      3\u001b[0m \u001b[1;33m\u001b[0m\u001b[0m\n\u001b[0;32m      4\u001b[0m \u001b[1;31m# Create your models here.\u001b[0m\u001b[1;33m\u001b[0m\u001b[1;33m\u001b[0m\u001b[1;33m\u001b[0m\u001b[0m\n\u001b[0;32m      5\u001b[0m \u001b[1;32mclass\u001b[0m \u001b[0mCustomer\u001b[0m\u001b[1;33m(\u001b[0m\u001b[0mmodels\u001b[0m\u001b[1;33m.\u001b[0m\u001b[0mModel\u001b[0m\u001b[1;33m)\u001b[0m\u001b[1;33m:\u001b[0m\u001b[1;33m\u001b[0m\u001b[1;33m\u001b[0m\u001b[0m\n",
      "\u001b[1;31mModuleNotFoundError\u001b[0m: No module named 'django'"
     ]
    }
   ],
   "source": [
    "from django.db import models\n",
    "from django.contrib.auth.models import User\n",
    "\n",
    "# Create your models here.\n",
    "class Customer(models.Model):\n",
    "    user = models.OneToOneField(User, null=True, on_delete=models.CASCADE)\n",
    "    name=models.CharField(max_length=200,null=True)\n",
    "    email=models.CharField(max_length=200,null=True)\n",
    "    date_created=models.DateTimeField(auto_now_add=True,null=True)\n",
    "    \n",
    "    def __str__(self):\n",
    "        return str(self.name)\n",
    "\n",
    "class Category(models.Model):\n",
    "    options=(\n",
    "        ('breakfast','breakfast'),\n",
    "        ('lunch','lunch'),\n",
    "        ('dinner','dinner'),\n",
    "        ('snacks','snacks'),\n",
    "    )\n",
    "    name=models.CharField(max_length=50,choices=options)\n",
    "    def __str__(self):\n",
    "        return self.name\n",
    "\n",
    "class Fooditem(models.Model):\n",
    "    name = models.CharField(max_length=200)\n",
    "    category = models.ManyToManyField(Category)\n",
    "    carbohydrate = models.DecimalField(max_digits=5,decimal_places=2,default=0)\n",
    "    fats = models.DecimalField(max_digits=5,decimal_places=2,default=0)\n",
    "    protein = models.DecimalField(max_digits=5,decimal_places=2,default=0)\n",
    "    calorie=models.DecimalField(max_digits=5,decimal_places=2,default=0,blank=True)\n",
    "    quantity = models.IntegerField(default=1,null=True,blank=True)\n",
    "    \n",
    "    def __str__(self):\n",
    "        return str(self.name)\n",
    "\n",
    "#for user page-------------------------------------------------------------\n",
    "class UserFooditem(models.Model):\n",
    "    customer = models.ManyToManyField(Customer ,blank=True)\n",
    "    fooditem=models.ManyToManyField(Fooditem)"
   ]
  },
  {
   "cell_type": "code",
   "execution_count": 3,
   "metadata": {},
   "outputs": [
    {
     "ename": "ModuleNotFoundError",
     "evalue": "No module named 'django'",
     "output_type": "error",
     "traceback": [
      "\u001b[1;31m---------------------------------------------------------------------------\u001b[0m",
      "\u001b[1;31mModuleNotFoundError\u001b[0m                       Traceback (most recent call last)",
      "\u001b[1;32m<ipython-input-3-1e3874704a58>\u001b[0m in \u001b[0;36m<module>\u001b[1;34m\u001b[0m\n\u001b[1;32m----> 1\u001b[1;33m \u001b[1;32mfrom\u001b[0m \u001b[0mdjango\u001b[0m\u001b[1;33m.\u001b[0m\u001b[0mhttp\u001b[0m \u001b[1;32mimport\u001b[0m \u001b[0mHttpResponse\u001b[0m\u001b[1;33m\u001b[0m\u001b[1;33m\u001b[0m\u001b[0m\n\u001b[0m\u001b[0;32m      2\u001b[0m \u001b[1;32mfrom\u001b[0m \u001b[0mdjango\u001b[0m\u001b[1;33m.\u001b[0m\u001b[0mshortcuts\u001b[0m \u001b[1;32mimport\u001b[0m \u001b[0mredirect\u001b[0m\u001b[1;33m\u001b[0m\u001b[1;33m\u001b[0m\u001b[0m\n\u001b[0;32m      3\u001b[0m \u001b[1;33m\u001b[0m\u001b[0m\n\u001b[0;32m      4\u001b[0m \u001b[1;32mdef\u001b[0m \u001b[0munauthorized_user\u001b[0m\u001b[1;33m(\u001b[0m\u001b[0mview_func\u001b[0m\u001b[1;33m)\u001b[0m\u001b[1;33m:\u001b[0m\u001b[1;33m\u001b[0m\u001b[1;33m\u001b[0m\u001b[0m\n\u001b[0;32m      5\u001b[0m     \u001b[1;32mdef\u001b[0m \u001b[0mwrapper_func\u001b[0m\u001b[1;33m(\u001b[0m\u001b[0mrequest\u001b[0m\u001b[1;33m,\u001b[0m\u001b[1;33m*\u001b[0m\u001b[0margs\u001b[0m\u001b[1;33m,\u001b[0m\u001b[1;33m**\u001b[0m\u001b[0mkwargs\u001b[0m\u001b[1;33m)\u001b[0m\u001b[1;33m:\u001b[0m\u001b[1;33m\u001b[0m\u001b[1;33m\u001b[0m\u001b[0m\n",
      "\u001b[1;31mModuleNotFoundError\u001b[0m: No module named 'django'"
     ]
    }
   ],
   "source": [
    "from django.http import HttpResponse\n",
    "from django.shortcuts import redirect\n",
    "\n",
    "def unauthorized_user(view_func): \n",
    "    def wrapper_func(request,*args,**kwargs):\n",
    "        if request.user.is_authenticated:\n",
    "            return redirect('home')\n",
    "        else:\n",
    "            return view_func(request,*args,**kwargs)\n",
    "    return wrapper_func\n",
    "\n",
    "def allowed_users(allowed_roles=[]):\n",
    "    def decorator(view_func): \n",
    "        def wrapper_func(request,*args,**kwargs):\n",
    "            group=None\n",
    "            if request.user.groups.exists():\n",
    "                group=request.user.groups.all()[0].name\n",
    "            if group in allowed_roles:\n",
    "                return view_func(request,*args,**kwargs)\n",
    "            else:\n",
    "                return HttpResponse(\"<h1>You are not allowed to access this page</h1>\")\n",
    "        return wrapper_func\n",
    "    return decorator\n",
    "\n",
    "def admin_only(view_func):\n",
    "    def wrapper_func(request,*args,**kwargs):\n",
    "        group=None\n",
    "        if request.user.groups.exists():\n",
    "            group=request.user.groups.all()[0].name\n",
    "        if group=='user':\n",
    "            return redirect('userPage')\n",
    "        if group=='admin':\n",
    "            return view_func(request,*args,**kwargs)\n",
    "    return wrapper_func"
   ]
  },
  {
   "cell_type": "markdown",
   "metadata": {},
   "source": [
    "2. Authentication: decorators.py"
   ]
  },
  {
   "cell_type": "code",
   "execution_count": 4,
   "metadata": {},
   "outputs": [
    {
     "ename": "ModuleNotFoundError",
     "evalue": "No module named 'django_filters'",
     "output_type": "error",
     "traceback": [
      "\u001b[1;31m---------------------------------------------------------------------------\u001b[0m",
      "\u001b[1;31mModuleNotFoundError\u001b[0m                       Traceback (most recent call last)",
      "\u001b[1;32m<ipython-input-4-b041fbd1764c>\u001b[0m in \u001b[0;36m<module>\u001b[1;34m\u001b[0m\n\u001b[1;32m----> 1\u001b[1;33m \u001b[1;32mimport\u001b[0m \u001b[0mdjango_filters\u001b[0m\u001b[1;33m\u001b[0m\u001b[1;33m\u001b[0m\u001b[0m\n\u001b[0m\u001b[0;32m      2\u001b[0m \u001b[1;32mfrom\u001b[0m \u001b[1;33m.\u001b[0m\u001b[0mmodels\u001b[0m \u001b[1;32mimport\u001b[0m \u001b[1;33m*\u001b[0m\u001b[1;33m\u001b[0m\u001b[1;33m\u001b[0m\u001b[0m\n\u001b[0;32m      3\u001b[0m \u001b[1;33m\u001b[0m\u001b[0m\n\u001b[0;32m      4\u001b[0m \u001b[1;32mclass\u001b[0m \u001b[0mfooditemFilter\u001b[0m\u001b[1;33m(\u001b[0m\u001b[0mdjango_filters\u001b[0m\u001b[1;33m.\u001b[0m\u001b[0mFilterSet\u001b[0m\u001b[1;33m)\u001b[0m\u001b[1;33m:\u001b[0m\u001b[1;33m\u001b[0m\u001b[1;33m\u001b[0m\u001b[0m\n\u001b[0;32m      5\u001b[0m     \u001b[1;32mclass\u001b[0m \u001b[0mMeta\u001b[0m\u001b[1;33m:\u001b[0m\u001b[1;33m\u001b[0m\u001b[1;33m\u001b[0m\u001b[0m\n",
      "\u001b[1;31mModuleNotFoundError\u001b[0m: No module named 'django_filters'"
     ]
    }
   ],
   "source": [
    "import django_filters\n",
    "from .models import *\n",
    "\n",
    "class fooditemFilter(django_filters.FilterSet):\n",
    "    class Meta:\n",
    "        model = Fooditem\n",
    "        fields = ['name']"
   ]
  },
  {
   "cell_type": "markdown",
   "metadata": {},
   "source": []
  },
  {
   "cell_type": "code",
   "execution_count": 5,
   "metadata": {},
   "outputs": [
    {
     "ename": "ModuleNotFoundError",
     "evalue": "No module named 'django'",
     "output_type": "error",
     "traceback": [
      "\u001b[1;31m---------------------------------------------------------------------------\u001b[0m",
      "\u001b[1;31mModuleNotFoundError\u001b[0m                       Traceback (most recent call last)",
      "\u001b[1;32m<ipython-input-5-218eb85f3147>\u001b[0m in \u001b[0;36m<module>\u001b[1;34m\u001b[0m\n\u001b[1;32m----> 1\u001b[1;33m \u001b[1;32mfrom\u001b[0m \u001b[0mdjango\u001b[0m\u001b[1;33m.\u001b[0m\u001b[0mforms\u001b[0m \u001b[1;32mimport\u001b[0m \u001b[0mModelForm\u001b[0m\u001b[1;33m\u001b[0m\u001b[1;33m\u001b[0m\u001b[0m\n\u001b[0m\u001b[0;32m      2\u001b[0m \u001b[1;32mfrom\u001b[0m \u001b[1;33m.\u001b[0m\u001b[0mmodels\u001b[0m \u001b[1;32mimport\u001b[0m \u001b[1;33m*\u001b[0m\u001b[1;33m\u001b[0m\u001b[1;33m\u001b[0m\u001b[0m\n\u001b[0;32m      3\u001b[0m \u001b[1;32mfrom\u001b[0m \u001b[0mdjango\u001b[0m\u001b[1;33m.\u001b[0m\u001b[0mcontrib\u001b[0m\u001b[1;33m.\u001b[0m\u001b[0mauth\u001b[0m\u001b[1;33m.\u001b[0m\u001b[0mforms\u001b[0m \u001b[1;32mimport\u001b[0m \u001b[0mUserCreationForm\u001b[0m\u001b[1;33m\u001b[0m\u001b[1;33m\u001b[0m\u001b[0m\n\u001b[0;32m      4\u001b[0m \u001b[1;33m\u001b[0m\u001b[0m\n\u001b[0;32m      5\u001b[0m \u001b[1;32mclass\u001b[0m \u001b[0mfooditemForm\u001b[0m\u001b[1;33m(\u001b[0m\u001b[0mModelForm\u001b[0m\u001b[1;33m)\u001b[0m\u001b[1;33m:\u001b[0m\u001b[1;33m\u001b[0m\u001b[1;33m\u001b[0m\u001b[0m\n",
      "\u001b[1;31mModuleNotFoundError\u001b[0m: No module named 'django'"
     ]
    }
   ],
   "source": [
    "from django.forms import ModelForm\n",
    "from .models import *\n",
    "from django.contrib.auth.forms import UserCreationForm\n",
    "\n",
    "class fooditemForm(ModelForm):\n",
    "    class Meta:\n",
    "        model=Fooditem\n",
    "        fields=\"__all__\"\n",
    "\n",
    "class addUserFooditem(ModelForm):\n",
    "    class Meta:\n",
    "        model=UserFooditem\n",
    "        fields=\"__all__\"\n",
    "        \n",
    "class createUserForm(UserCreationForm):\n",
    "    class Meta:\n",
    "        model=User\n",
    "        fields=['username','email','password1','password2']"
   ]
  },
  {
   "cell_type": "code",
   "execution_count": 6,
   "metadata": {},
   "outputs": [
    {
     "ename": "ModuleNotFoundError",
     "evalue": "No module named 'django'",
     "output_type": "error",
     "traceback": [
      "\u001b[1;31m---------------------------------------------------------------------------\u001b[0m",
      "\u001b[1;31mModuleNotFoundError\u001b[0m                       Traceback (most recent call last)",
      "\u001b[1;32m<ipython-input-6-ae15a12f520c>\u001b[0m in \u001b[0;36m<module>\u001b[1;34m\u001b[0m\n\u001b[1;32m----> 1\u001b[1;33m \u001b[1;32mfrom\u001b[0m \u001b[0mdjango\u001b[0m\u001b[1;33m.\u001b[0m\u001b[0mcontrib\u001b[0m \u001b[1;32mimport\u001b[0m \u001b[0madmin\u001b[0m\u001b[1;33m\u001b[0m\u001b[1;33m\u001b[0m\u001b[0m\n\u001b[0m\u001b[0;32m      2\u001b[0m \u001b[1;32mfrom\u001b[0m \u001b[1;33m.\u001b[0m\u001b[0mmodels\u001b[0m \u001b[1;32mimport\u001b[0m \u001b[1;33m*\u001b[0m\u001b[1;33m\u001b[0m\u001b[1;33m\u001b[0m\u001b[0m\n\u001b[0;32m      3\u001b[0m \u001b[1;33m\u001b[0m\u001b[0m\n\u001b[0;32m      4\u001b[0m \u001b[1;31m# Now, Register the models here.\u001b[0m\u001b[1;33m\u001b[0m\u001b[1;33m\u001b[0m\u001b[1;33m\u001b[0m\u001b[0m\n\u001b[0;32m      5\u001b[0m \u001b[1;33m\u001b[0m\u001b[0m\n",
      "\u001b[1;31mModuleNotFoundError\u001b[0m: No module named 'django'"
     ]
    }
   ],
   "source": [
    "from django.contrib import admin\n",
    "from .models import *\n",
    "\n",
    "# Now, Register the models here.\n",
    "\n",
    "class foodAdmin(admin.ModelAdmin):\n",
    "    class Meta:\n",
    "        model=Fooditem\n",
    "    list_display=['name']\n",
    "    list_filter=['name']\n",
    "\n",
    "admin.site.register(Customer)\n",
    "admin.site.register(UserFooditem)\n",
    "admin.site.register(Category)\n",
    "admin.site.register(Fooditem,foodAdmin)"
   ]
  },
  {
   "cell_type": "code",
   "execution_count": 7,
   "metadata": {},
   "outputs": [
    {
     "ename": "ModuleNotFoundError",
     "evalue": "No module named 'django'",
     "output_type": "error",
     "traceback": [
      "\u001b[1;31m---------------------------------------------------------------------------\u001b[0m",
      "\u001b[1;31mModuleNotFoundError\u001b[0m                       Traceback (most recent call last)",
      "\u001b[1;32m<ipython-input-7-d6cf67e80079>\u001b[0m in \u001b[0;36m<module>\u001b[1;34m\u001b[0m\n\u001b[1;32m----> 1\u001b[1;33m \u001b[1;32mfrom\u001b[0m \u001b[0mdjango\u001b[0m\u001b[1;33m.\u001b[0m\u001b[0mcontrib\u001b[0m \u001b[1;32mimport\u001b[0m \u001b[0madmin\u001b[0m\u001b[1;33m\u001b[0m\u001b[1;33m\u001b[0m\u001b[0m\n\u001b[0m\u001b[0;32m      2\u001b[0m \u001b[1;32mfrom\u001b[0m \u001b[0mdjango\u001b[0m\u001b[1;33m.\u001b[0m\u001b[0murls\u001b[0m \u001b[1;32mimport\u001b[0m \u001b[0mpath\u001b[0m\u001b[1;33m,\u001b[0m \u001b[0minclude\u001b[0m\u001b[1;33m\u001b[0m\u001b[1;33m\u001b[0m\u001b[0m\n\u001b[0;32m      3\u001b[0m \u001b[1;33m\u001b[0m\u001b[0m\n\u001b[0;32m      4\u001b[0m urlpatterns = [\n\u001b[0;32m      5\u001b[0m     \u001b[0mpath\u001b[0m\u001b[1;33m(\u001b[0m\u001b[1;34m'admin/'\u001b[0m\u001b[1;33m,\u001b[0m \u001b[0madmin\u001b[0m\u001b[1;33m.\u001b[0m\u001b[0msite\u001b[0m\u001b[1;33m.\u001b[0m\u001b[0murls\u001b[0m\u001b[1;33m)\u001b[0m\u001b[1;33m,\u001b[0m\u001b[1;33m\u001b[0m\u001b[1;33m\u001b[0m\u001b[0m\n",
      "\u001b[1;31mModuleNotFoundError\u001b[0m: No module named 'django'"
     ]
    }
   ],
   "source": [
    "from django.contrib import admin\n",
    "from django.urls import path, include\n",
    "\n",
    "urlpatterns = [\n",
    "    path('admin/', admin.site.urls),\n",
    "    path('',include('Fityfeed.urls')),\n",
    "]"
   ]
  },
  {
   "cell_type": "code",
   "execution_count": 8,
   "metadata": {},
   "outputs": [
    {
     "ename": "ModuleNotFoundError",
     "evalue": "No module named 'django'",
     "output_type": "error",
     "traceback": [
      "\u001b[1;31m---------------------------------------------------------------------------\u001b[0m",
      "\u001b[1;31mModuleNotFoundError\u001b[0m                       Traceback (most recent call last)",
      "\u001b[1;32m<ipython-input-8-2f39e5b434f3>\u001b[0m in \u001b[0;36m<module>\u001b[1;34m\u001b[0m\n\u001b[1;32m----> 1\u001b[1;33m \u001b[1;32mfrom\u001b[0m \u001b[0mdjango\u001b[0m\u001b[1;33m.\u001b[0m\u001b[0murls\u001b[0m \u001b[1;32mimport\u001b[0m \u001b[0mpath\u001b[0m\u001b[1;33m,\u001b[0m\u001b[0minclude\u001b[0m\u001b[1;33m\u001b[0m\u001b[1;33m\u001b[0m\u001b[0m\n\u001b[0m\u001b[0;32m      2\u001b[0m \u001b[1;32mfrom\u001b[0m \u001b[1;33m.\u001b[0m \u001b[1;32mimport\u001b[0m \u001b[0mviews\u001b[0m\u001b[1;33m\u001b[0m\u001b[1;33m\u001b[0m\u001b[0m\n\u001b[0;32m      3\u001b[0m \u001b[1;32mfrom\u001b[0m \u001b[0mdjango\u001b[0m\u001b[1;33m.\u001b[0m\u001b[0mcontrib\u001b[0m\u001b[1;33m.\u001b[0m\u001b[0mauth\u001b[0m \u001b[1;32mimport\u001b[0m \u001b[0mviews\u001b[0m \u001b[1;32mas\u001b[0m \u001b[0mauth_views\u001b[0m\u001b[1;33m\u001b[0m\u001b[1;33m\u001b[0m\u001b[0m\n\u001b[0;32m      4\u001b[0m \u001b[1;33m\u001b[0m\u001b[0m\n\u001b[0;32m      5\u001b[0m urlpatterns = [\n",
      "\u001b[1;31mModuleNotFoundError\u001b[0m: No module named 'django'"
     ]
    }
   ],
   "source": [
    "from django.urls import path,include\n",
    "from . import views\n",
    "from django.contrib.auth import views as auth_views\n",
    "\n",
    "urlpatterns = [\n",
    "    path('',views.home,name='home'),\n",
    "    path('user/',views.userPage,name='userPage'), #userPage\n",
    "    path('product/',views.fooditem,name='fooditem'),\n",
    "    path('createfooditem/',views.createfooditem,name='createfooditem'),\n",
    "    path('register/',views.registerPage,name='register'),\n",
    "    path('login/',views.loginPage,name='login'),\n",
    "    path('logout/',views.logoutUser,name='logout'),\n",
    "    path('addFooditem/',views.addFooditem,name='addFooditem'),\n",
    "     path('reset_password/',\n",
    "         auth_views.PasswordResetView.as_view(),\n",
    "         name=\"reset_password\"),\n",
    "\n",
    "    path('reset_password_sent/',\n",
    "         auth_views.PasswordResetDoneView.as_view(),\n",
    "         name=\"password_reset_done\"),\n",
    "\n",
    "    path('reset/<uidb64>/<token>/',\n",
    "         auth_views.PasswordResetConfirmView.as_view(),\n",
    "         name=\"password_reset_confirm\"),\n",
    "\n",
    "    path('reset_password_complete/',\n",
    "         auth_views.PasswordResetCompleteView.as_view(),\n",
    "         name=\"password_reset_complete\"),\n",
    "]"
   ]
  },
  {
   "cell_type": "code",
   "execution_count": 9,
   "metadata": {},
   "outputs": [
    {
     "ename": "ModuleNotFoundError",
     "evalue": "No module named 'django'",
     "output_type": "error",
     "traceback": [
      "\u001b[1;31m---------------------------------------------------------------------------\u001b[0m",
      "\u001b[1;31mModuleNotFoundError\u001b[0m                       Traceback (most recent call last)",
      "\u001b[1;32m<ipython-input-9-1faed33c7350>\u001b[0m in \u001b[0;36m<module>\u001b[1;34m\u001b[0m\n\u001b[1;32m----> 1\u001b[1;33m \u001b[1;32mfrom\u001b[0m \u001b[0mdjango\u001b[0m\u001b[1;33m.\u001b[0m\u001b[0mshortcuts\u001b[0m \u001b[1;32mimport\u001b[0m \u001b[0mrender\u001b[0m\u001b[1;33m,\u001b[0m\u001b[0mredirect\u001b[0m\u001b[1;33m\u001b[0m\u001b[1;33m\u001b[0m\u001b[0m\n\u001b[0m\u001b[0;32m      2\u001b[0m \u001b[1;32mfrom\u001b[0m \u001b[0mdjango\u001b[0m\u001b[1;33m.\u001b[0m\u001b[0mhttp\u001b[0m \u001b[1;32mimport\u001b[0m \u001b[0mHttpResponse\u001b[0m\u001b[1;33m\u001b[0m\u001b[1;33m\u001b[0m\u001b[0m\n\u001b[0;32m      3\u001b[0m \u001b[1;32mfrom\u001b[0m \u001b[0mdjango\u001b[0m\u001b[1;33m.\u001b[0m\u001b[0mcontrib\u001b[0m\u001b[1;33m.\u001b[0m\u001b[0mauth\u001b[0m\u001b[1;33m.\u001b[0m\u001b[0mmodels\u001b[0m \u001b[1;32mimport\u001b[0m \u001b[0mUser\u001b[0m\u001b[1;33m\u001b[0m\u001b[1;33m\u001b[0m\u001b[0m\n\u001b[0;32m      4\u001b[0m \u001b[1;32mfrom\u001b[0m \u001b[1;33m.\u001b[0m\u001b[0mmodels\u001b[0m \u001b[1;32mimport\u001b[0m \u001b[1;33m*\u001b[0m\u001b[1;33m\u001b[0m\u001b[1;33m\u001b[0m\u001b[0m\n\u001b[0;32m      5\u001b[0m \u001b[1;32mfrom\u001b[0m \u001b[1;33m.\u001b[0m\u001b[0mforms\u001b[0m \u001b[1;32mimport\u001b[0m \u001b[1;33m*\u001b[0m\u001b[1;33m\u001b[0m\u001b[1;33m\u001b[0m\u001b[0m\n",
      "\u001b[1;31mModuleNotFoundError\u001b[0m: No module named 'django'"
     ]
    }
   ],
   "source": [
    "from django.shortcuts import render,redirect\n",
    "from django.http import HttpResponse\n",
    "from django.contrib.auth.models import User\n",
    "from .models import *\n",
    "from .forms import *\n",
    "from django.contrib import messages\n",
    "from django.contrib.auth import authenticate,login,logout\n",
    "from django.contrib.auth.decorators import login_required\n",
    "from .decorators import *\n",
    "from django.contrib.auth.models import Group\n",
    "from .filters import fooditemFilter\n",
    "# Create your views here.\n",
    "\n",
    "@login_required(login_url='login')\n",
    "@admin_only\n",
    "def home(request):\n",
    "    breakfast=Category.objects.filter(name='breakfast')[0].fooditem_set.all()[:5]\n",
    "    lunch=Category.objects.filter(name='lunch')[0].fooditem_set.all()[:5]\n",
    "    dinner=Category.objects.filter(name='dinner')[0].fooditem_set.all()[:5]\n",
    "    snacks=Category.objects.filter(name='snacks')[0].fooditem_set.all()[:5]\n",
    "    customers=Customer.objects.all()\n",
    "    context={'breakfast':breakfast,\n",
    "              'lunch':lunch,\n",
    "              'dinner':dinner,\n",
    "              'snacks':snacks,\n",
    "              'customers':customers,\n",
    "            }\n",
    "    return render(request,'main.html',context)\n",
    "\n",
    "@login_required(login_url='login')\n",
    "@allowed_users(allowed_roles=['admin'])\n",
    "def fooditem(request):\n",
    "    breakfast=Category.objects.filter(name='breakfast')[0].fooditem_set.all()\n",
    "    bcnt=breakfast.count()\n",
    "    lunch=Category.objects.filter(name='lunch')[0].fooditem_set.all()\n",
    "    lcnt=lunch.count()\n",
    "    dinner=Category.objects.filter(name='dinner')[0].fooditem_set.all()\n",
    "    dcnt=dinner.count()\n",
    "    snacks=Category.objects.filter(name='snacks')[0].fooditem_set.all()\n",
    "    scnt=snacks.count()\n",
    "    context={'breakfast':breakfast,\n",
    "              'bcnt':bcnt,\n",
    "              'lcnt':lcnt,\n",
    "              'scnt':scnt,\n",
    "              'dcnt':dcnt,\n",
    "              'lunch':lunch,\n",
    "              'dinner':dinner,\n",
    "              'snacks':snacks,\n",
    "            }\n",
    "    return render(request,'fooditem.html',context)\n",
    "\n",
    "@login_required(login_url='login')\n",
    "@allowed_users(allowed_roles=['admin'])\n",
    "def createfooditem(request):\n",
    "    form = fooditemForm()\n",
    "    if request.method == 'POST':\n",
    "        form = fooditemForm(request.POST)\n",
    "        if form.is_valid():\n",
    "            form.save()\n",
    "            return redirect('/')\n",
    "    context={'form':form}\n",
    "    return render(request,'createfooditem.html',context)\n",
    "\n",
    "@unauthorized_user\n",
    "def registerPage(request):\n",
    "    form=createUserForm()\n",
    "    if request.method=='POST':\n",
    "        form=createUserForm(request.POST)\n",
    "        if form.is_valid():\n",
    "            user=form.save()\n",
    "            username=form.cleaned_data.get('username')\n",
    "            group=Group.objects.get(name='user')\n",
    "            user.groups.add(group)\n",
    "            email=form.cleaned_data.get('email')\n",
    "            Customer.objects.create(user=user, name=username,email=email)\n",
    "            messages.success(request,'Account created for '+username)\n",
    "            return redirect('login')\n",
    "    context={'form':form}\n",
    "    return render(request,'register.html',context)\n",
    "\n",
    "@unauthorized_user\n",
    "def loginPage(request):\n",
    "    if request.method=='POST':\n",
    "        username=request.POST.get('username')\n",
    "        password=request.POST.get('password')\n",
    "        user=authenticate(request,username=username,password=password)\n",
    "        if user is not None:\n",
    "            login(request,user)\n",
    "            return redirect('home')\n",
    "        else:\n",
    "            messages.info(request,'username or password is invalid')\n",
    "    return render(request,'login.html')\n",
    "\n",
    "\n",
    "@login_required(login_url='login')\n",
    "def logoutUser(request):\n",
    "    logout(request)\n",
    "    return redirect('login')\n",
    "\n",
    "def userPage(request):\n",
    "    user=request.user\n",
    "    cust=user.customer\n",
    "    fooditems=Fooditem.objects.filter()\n",
    "    myfilter = fooditemFilter(request.GET,queryset=fooditems)\n",
    "    fooditems=myfilter.qs\n",
    "    total=UserFooditem.objects.all()\n",
    "    myfooditems=total.filter(customer=cust)\n",
    "    cnt=myfooditems.count()\n",
    "    querysetFood=[]\n",
    "    for food in myfooditems:\n",
    "        querysetFood.append(food.fooditem.all())\n",
    "    finalFoodItems=[]\n",
    "    for items in querysetFood:\n",
    "        for food_items in items:\n",
    "            finalFoodItems.append(food_items)\n",
    "    totalCalories=0\n",
    "    for foods in finalFoodItems:\n",
    "        totalCalories+=foods.calorie\n",
    "    CalorieLeft=2000-totalCalories\n",
    "    context={'CalorieLeft':CalorieLeft,'totalCalories':totalCalories,'cnt':cnt,'foodlist':finalFoodItems,'fooditem':fooditems,'myfilter':myfilter}\n",
    "    return render(request,'user.html',context)\n",
    "\n",
    "\n",
    "def addFooditem(request):\n",
    "    user=request.user\n",
    "    cust=user.customer\n",
    "    if request.method==\"POST\":\n",
    "        form =addUserFooditem(request.POST)\n",
    "        if form.is_valid():\n",
    "            form.save()\n",
    "            return redirect('/')\n",
    "    form=addUserFooditem()\n",
    "    context={'form':form}\n",
    "    return render(request,'addUserFooditem.html',context)"
   ]
  },
  {
   "cell_type": "code",
   "execution_count": null,
   "metadata": {},
   "outputs": [],
   "source": []
  },
  {
   "cell_type": "code",
   "execution_count": null,
   "metadata": {},
   "outputs": [],
   "source": []
  },
  {
   "cell_type": "code",
   "execution_count": null,
   "metadata": {},
   "outputs": [],
   "source": []
  },
  {
   "cell_type": "code",
   "execution_count": null,
   "metadata": {},
   "outputs": [],
   "source": []
  },
  {
   "cell_type": "code",
   "execution_count": null,
   "metadata": {},
   "outputs": [],
   "source": []
  },
  {
   "cell_type": "code",
   "execution_count": null,
   "metadata": {},
   "outputs": [],
   "source": []
  },
  {
   "cell_type": "code",
   "execution_count": null,
   "metadata": {},
   "outputs": [],
   "source": []
  },
  {
   "cell_type": "code",
   "execution_count": null,
   "metadata": {},
   "outputs": [],
   "source": []
  },
  {
   "cell_type": "code",
   "execution_count": null,
   "metadata": {},
   "outputs": [],
   "source": []
  },
  {
   "cell_type": "code",
   "execution_count": null,
   "metadata": {},
   "outputs": [],
   "source": []
  },
  {
   "cell_type": "code",
   "execution_count": null,
   "metadata": {},
   "outputs": [],
   "source": []
  },
  {
   "cell_type": "code",
   "execution_count": null,
   "metadata": {},
   "outputs": [],
   "source": []
  },
  {
   "cell_type": "code",
   "execution_count": null,
   "metadata": {},
   "outputs": [],
   "source": []
  },
  {
   "cell_type": "code",
   "execution_count": null,
   "metadata": {},
   "outputs": [],
   "source": []
  },
  {
   "cell_type": "code",
   "execution_count": null,
   "metadata": {},
   "outputs": [],
   "source": []
  },
  {
   "cell_type": "code",
   "execution_count": null,
   "metadata": {},
   "outputs": [],
   "source": []
  },
  {
   "cell_type": "code",
   "execution_count": null,
   "metadata": {},
   "outputs": [],
   "source": []
  },
  {
   "cell_type": "code",
   "execution_count": null,
   "metadata": {},
   "outputs": [],
   "source": []
  },
  {
   "cell_type": "code",
   "execution_count": null,
   "metadata": {},
   "outputs": [],
   "source": []
  },
  {
   "cell_type": "code",
   "execution_count": null,
   "metadata": {},
   "outputs": [],
   "source": []
  }
 ],
 "metadata": {
  "kernelspec": {
   "display_name": "Python 3",
   "language": "python",
   "name": "python3"
  }
 },
 "nbformat": 4,
 "nbformat_minor": 4
}
